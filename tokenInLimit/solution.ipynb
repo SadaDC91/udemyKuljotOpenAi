{
 "cells": [
  {
   "cell_type": "code",
   "execution_count": null,
   "id": "44df9bf6",
   "metadata": {},
   "outputs": [],
   "source": [
    "#importing important utilities and libraries\n",
    "import os\n",
    "import requests\n",
    "from openai import AzureOpenAI\n",
    "import tiktoken\n",
    "import PyPDF2\n",
    "import math"
   ]
  },
  {
   "cell_type": "code",
   "execution_count": null,
   "id": "d32bd1e5",
   "metadata": {},
   "outputs": [],
   "source": [
    "#function to count number of tokens using tiktoken function\n",
    "def num_tokens_from_string(string: str, encoding_name: str) -> int:\n",
    "    \"\"\"Returns the number of tokens in a text string.\"\"\"\n",
    "    encoding = tiktoken.get_encoding(encoding_name)\n",
    "    num_tokens = len(encoding.encode(string))\n",
    "    return num_tokens"
   ]
  },
  {
   "cell_type": "code",
   "execution_count": null,
   "id": "e52576d9",
   "metadata": {},
   "outputs": [],
   "source": [
    "def main():\n",
    "    #defining an azure openai client\n",
    "    client = AzureOpenAI(\n",
    "        azure_endpoint=os.getenv('AZURE_OPENAI_ENDPOINT'),\n",
    "        api_key=os.getenv('AZURE_OPENAI_KEY'),\n",
    "        api_version=\"2024-02-15-preview\"\n",
    "    )\n",
    "    "
   ]
  },
  {
   "cell_type": "code",
   "execution_count": null,
   "id": "91e10b2c",
   "metadata": {},
   "outputs": [],
   "source": [
    "    #reading text from the PDF Document\n",
    "    user_prompt=\"\"\n",
    "    reader = PyPDF2.PdfReader('document.pdf')\n",
    "    for pages in reader.pages:\n",
    "        user_prompt = user_prompt+pages.extract_text()"
   ]
  },
  {
   "cell_type": "code",
   "execution_count": null,
   "id": "7233fa5c",
   "metadata": {},
   "outputs": [],
   "source": [
    "    #get number of tokens from the PDF text\n",
    "    no_of_tokens = num_tokens_from_string(user_prompt,\"cl100k_base\")"
   ]
  },
  {
   "cell_type": "code",
   "execution_count": null,
   "id": "90cacd18",
   "metadata": {},
   "outputs": [],
   "source": [
    "    #variable initialization\n",
    "    summary=\"\"\n",
    "    word_sum=\"\"\n",
    "    \n",
    "    n=math.ceil(no_of_tokens/4096)\n",
    "    print(n)\n",
    "    content_length = len(user_prompt)\n",
    "    lcount=0\n",
    "    print(content_length)\n",
    "    rcount=int(content_length/n)\n",
    "    print(rcount)"
   ]
  },
  {
   "cell_type": "code",
   "execution_count": null,
   "id": "4f6d04d1",
   "metadata": {},
   "outputs": [],
   "source": [
    "    #using the \"chain of summarisation\" alogorithm\n",
    "    while(rcount<content_length):\n",
    "        word_sum = user_prompt[lcount:rcount]\n",
    "        response = client.chat.completions.create(\n",
    "            model=os.getenv('MODEl'),\n",
    "            messages=[\n",
    "                {\"role\":\"system\",\"content\":\"You are an ai assistant designed to help people\"},\n",
    "                {\"role\":\"user\",\"content\":\"I am providing you with a content in english \\n\"\n",
    "                                          \"generate a summary of this content \\n\"\n",
    "                                         + word_sum}\n",
    "            ],\n",
    "            temperature=0.7\n",
    "        )\n",
    "        summary = summary + response.choices[0].message.content\n",
    "        lcount=int(lcount + content_length/n)\n",
    "        rcount=int(rcount+content_length/n)"
   ]
  },
  {
   "cell_type": "code",
   "execution_count": null,
   "id": "0c8f7320",
   "metadata": {},
   "outputs": [],
   "source": [
    "    #printing the final summary\n",
    "    final_response=client.chat.completions.create(\n",
    "        model=os.getenv('MODEL'),\n",
    "        messages=[\n",
    "            {\"role\":\"system\",\"content\":\"You are an ai assistant designed to help people\"},\n",
    "            {\"role\":\"user\",\"content\":\"Provide me with a summary of the following text that I am providing you with \\n\"\n",
    "                                     + summary}\n",
    "        ],\n",
    "        temperature=0.7\n",
    "    )\n",
    "    \n",
    "    final_summary = final_response.choices[0].message.content"
   ]
  },
  {
   "cell_type": "code",
   "execution_count": null,
   "id": "d22f2341",
   "metadata": {},
   "outputs": [],
   "source": [
    "if(__name__=='main'):\n",
    "    main()"
   ]
  }
 ],
 "metadata": {
  "kernelspec": {
   "display_name": "Python 3 (ipykernel)",
   "language": "python",
   "name": "python3"
  },
  "language_info": {
   "codemirror_mode": {
    "name": "ipython",
    "version": 3
   },
   "file_extension": ".py",
   "mimetype": "text/x-python",
   "name": "python",
   "nbconvert_exporter": "python",
   "pygments_lexer": "ipython3",
   "version": "3.11.5"
  }
 },
 "nbformat": 4,
 "nbformat_minor": 5
}
